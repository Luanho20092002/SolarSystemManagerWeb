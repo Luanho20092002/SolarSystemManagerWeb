{
 "cells": [
  {
   "cell_type": "code",
   "execution_count": 9,
   "metadata": {},
   "outputs": [
    {
     "name": "stdout",
     "output_type": "stream",
     "text": [
      "Không thể lấy dữ liệu từ API, mã lỗi: <Response [401]>\n"
     ]
    }
   ],
   "source": [
    "\n",
    "\n",
    "import requests\n",
    "import datetime\n",
    "import json\n",
    "\n",
    "# Định nghĩa thông tin cần thiết\n",
    "latitude = 16.07\n",
    "longitude = 108.22\n",
    "start_date = \"2019-01-28\"\n",
    "end_date = \"2019-02-04\"\n",
    "YOUR_API_KEY = \"7ffebc2f67d85c4011a3c96cc375db5c\"\n",
    "\n",
    "# Tạo URL cho API\n",
    "url = f\"https://api.openweathermap.org/data/2.5/onecall/timemachine?lat={latitude}&lon={longitude}&dt={start_date}&appid={YOUR_API_KEY}\"\n",
    "\n",
    "# Gửi yêu cầu GET đến API\n",
    "response = requests.get(url)\n",
    "\n",
    "# Kiểm tra xem yêu cầu có thành công không\n",
    "if response.status_code == 200:\n",
    "    # Chuyển đổi dữ liệu trả về thành JSON\n",
    "    data = response.json()\n",
    "\n",
    "    # In ra dữ liệu về gió\n",
    "    for day_data in data['hourly']:\n",
    "        print(f\"Giờ: {day_data['dt']}, Tốc độ gió: {day_data['wind_speed']} m/s\")\n",
    "else:\n",
    "    print(f\"Không thể lấy dữ liệu từ API, mã lỗi: {response}\")\n"
   ]
  }
 ],
 "metadata": {
  "kernelspec": {
   "display_name": "Python 3",
   "language": "python",
   "name": "python3"
  },
  "language_info": {
   "codemirror_mode": {
    "name": "ipython",
    "version": 3
   },
   "file_extension": ".py",
   "mimetype": "text/x-python",
   "name": "python",
   "nbconvert_exporter": "python",
   "pygments_lexer": "ipython3",
   "version": "3.11.3"
  }
 },
 "nbformat": 4,
 "nbformat_minor": 2
}
